{
 "cells": [
  {
   "cell_type": "code",
   "execution_count": 18,
   "id": "f1cffc7c-81bd-4458-bbaf-834744449769",
   "metadata": {},
   "outputs": [
    {
     "name": "stdout",
     "output_type": "stream",
     "text": [
      "Requirement already satisfied: mysql-connector-python in c:\\users\\zackg\\anaconda3\\lib\\site-packages (9.0.0)\n",
      "Requirement already satisfied: qrcode[pil] in c:\\users\\zackg\\anaconda3\\lib\\site-packages (8.0)\n",
      "Requirement already satisfied: colorama in c:\\users\\zackg\\anaconda3\\lib\\site-packages (from qrcode[pil]) (0.4.6)\n",
      "Requirement already satisfied: pillow>=9.1.0 in c:\\users\\zackg\\anaconda3\\lib\\site-packages (from qrcode[pil]) (10.3.0)\n",
      "Note: you may need to restart the kernel to use updated packages.\n"
     ]
    }
   ],
   "source": [
    "pip install mysql-connector-python qrcode[pil]\n"
   ]
  },
  {
   "cell_type": "code",
   "execution_count": 19,
   "id": "30fc86d8-6b7a-4840-8c09-09ac3024520a",
   "metadata": {},
   "outputs": [
    {
     "name": "stdout",
     "output_type": "stream",
     "text": [
      "Requirement already satisfied: fpdf in c:\\users\\zackg\\anaconda3\\lib\\site-packages (1.7.2)\n",
      "Note: you may need to restart the kernel to use updated packages.\n"
     ]
    }
   ],
   "source": [
    "pip install fpdf\n"
   ]
  },
  {
   "cell_type": "code",
   "execution_count": 20,
   "id": "db0939cc-f5b7-4521-abe5-9038472c7b8e",
   "metadata": {},
   "outputs": [
    {
     "name": "stdout",
     "output_type": "stream",
     "text": [
      "PDF generado para GAEL QUINTANA ROMERO\n"
     ]
    }
   ],
   "source": [
    "import mysql.connector\n",
    "import qrcode\n",
    "import os\n",
    "from fpdf import FPDF\n",
    "\n",
    "# Conexión a la base de datos\n",
    "connection = mysql.connector.connect(\n",
    "    host='localhost',\n",
    "    user='root',\n",
    "    password='ZZW75$Ry32N12',\n",
    "    database='inedb'\n",
    ")\n",
    "\n",
    "cursor = connection.cursor(dictionary=True)\n",
    "\n",
    "# Crear la carpeta CodigosQR si no existe\n",
    "os.makedirs('CodigosQR', exist_ok=True)\n",
    "\n",
    "# Clase para crear un PDF\n",
    "class PDF(FPDF):\n",
    "    def header(self):\n",
    "        self.set_font('Arial', 'B', 12)\n",
    "        self.cell(0, 10, 'Documentos de Identificación', 0, 1, 'C')\n",
    "\n",
    "    def footer(self):\n",
    "        self.set_y(-15)\n",
    "        self.set_font('Arial', 'I', 8)\n",
    "        self.cell(0, 10, f'Página {self.page_no()}', 0, 0, 'C')\n",
    "\n",
    "    def link(self, x, y, w, h, link):\n",
    "        self.set_xy(x, y)\n",
    "        self.cell(w, h, '', 0, 1, 'L', link)\n",
    "\n",
    "def generar_qr_y_pdf():\n",
    "    try:\n",
    "        # Consulta de datos de la tabla usuarios\n",
    "        cursor.execute(\"SELECT * FROM usuarios\")\n",
    "        rows = cursor.fetchall()\n",
    "\n",
    "        for row in rows:\n",
    "            # Generar el código QR\n",
    "            qr = qrcode.QRCode(\n",
    "                version=1,\n",
    "                error_correction=qrcode.constants.ERROR_CORRECT_L,\n",
    "                box_size=10,\n",
    "                border=4,\n",
    "            )\n",
    "            qr.add_data(row['curp'])\n",
    "            qr.make(fit=True)\n",
    "\n",
    "            # Guardar el código QR en la carpeta CodigosQR\n",
    "            img = qr.make_image(fill='black', back_color='white')\n",
    "            qr_filename = f\"CodigosQR/qr_{row['id']}.png\"\n",
    "            img.save(qr_filename)\n",
    "\n",
    "            # Crear el PDF para CURP\n",
    "            pdf = PDF()\n",
    "            pdf.add_page()\n",
    "            pdf.set_font('Arial', 'B', 16)\n",
    "            pdf.cell(0, 10, f\"CURP: {row['curp']}\", ln=True)\n",
    "            pdf.cell(0, 10, f\"Nombre: {row['nombre']} {row['apellido_paterno']} {row['apellido_materno']}\", ln=True)\n",
    "            \n",
    "            # Enlaces a documentos\n",
    "            pdf.set_font('Arial', 'I', 12)\n",
    "            pdf.cell(0, 10, 'Consultar CURP en: https://www.gob.mx/curp/', ln=True)\n",
    "            pdf.link(10, pdf.get_y() - 10, 0, 10, 'https://www.gob.mx/curp/')\n",
    "            pdf.cell(0, 10, 'Consultar RFC en: https://www.sat.gob.mx/home', ln=True)\n",
    "            pdf.link(10, pdf.get_y() - 10, 0, 10, 'https://www.sat.gob.mx/home')\n",
    "            pdf.cell(0, 10, 'Consultar Comprobante de Domicilio en: https://app.cfe.mx/Aplicaciones/CCFE/SolicitudesCFE/Solicitudes/ConsultaTuReciboLuzGmx', ln=True)\n",
    "            pdf.link(10, pdf.get_y() - 10, 0, 10, 'https://app.cfe.mx/Aplicaciones/CCFE/SolicitudesCFE/Solicitudes/ConsultaTuReciboLuzGmx')\n",
    "            pdf.cell(0, 10, 'Consultar Acta de Nacimiento en: https://www.gob.mx/ActaNacimiento/', ln=True)\n",
    "            pdf.link(10, pdf.get_y() - 10, 0, 10, 'https://www.gob.mx/ActaNacimiento/')\n",
    "            \n",
    "            # Añadir el código QR más abajo\n",
    "            pdf.image(qr_filename, x=10, y=pdf.get_y() + 10, w=100)  # Ajustar posición y tamaño de la imagen\n",
    "            \n",
    "            # Guardar el PDF\n",
    "            pdf.output(f\"CodigosQR/curp_{row['id']}.pdf\")\n",
    "\n",
    "            print(f\"PDF generado para {row['nombre']} {row['apellido_paterno']} {row['apellido_materno']}\")\n",
    "\n",
    "    finally:\n",
    "        cursor.close()\n",
    "        connection.close()\n",
    "\n",
    "generar_qr_y_pdf()\n"
   ]
  }
 ],
 "metadata": {
  "kernelspec": {
   "display_name": "Python 3 (ipykernel)",
   "language": "python",
   "name": "python3"
  },
  "language_info": {
   "codemirror_mode": {
    "name": "ipython",
    "version": 3
   },
   "file_extension": ".py",
   "mimetype": "text/x-python",
   "name": "python",
   "nbconvert_exporter": "python",
   "pygments_lexer": "ipython3",
   "version": "3.12.4"
  }
 },
 "nbformat": 4,
 "nbformat_minor": 5
}
